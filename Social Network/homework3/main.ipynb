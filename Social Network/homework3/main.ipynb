{
 "cells": [
  {
   "cell_type": "markdown",
   "metadata": {},
   "source": [
    "# 竞赛————脱发vip客户组"
   ]
  },
  {
   "cell_type": "code",
   "execution_count": 53,
   "metadata": {},
   "outputs": [
    {
     "name": "stdout",
     "output_type": "stream",
     "text": [
      "连接成功！\n"
     ]
    }
   ],
   "source": [
    "import pymssql\n",
    "import pandas as pd\n",
    "import sqlalchemy\n",
    "from sqlalchemy import create_engine\n",
    "\n",
    "# 数据库连接\n",
    "server = '202.117.45.203:5018'\n",
    "user = 'sntm'\n",
    "password = 'XJTUbid$2022'\n",
    "db = 'RenCompetition'\n",
    "connect = pymssql.connect(server, user, password, db, charset='GB18030') #解决乱码问题\n",
    "if connect:\n",
    "    print(\"连接成功！\")\n",
    "engine = create_engine('mssql+pymssql://' + user + ':' + password + '@' + server + '/' + db)\n",
    "    \n",
    "cursor = connect.cursor()   #创建一个游标对象,python里的sql语句都要通过cursor来执行\n"
   ]
  },
  {
   "cell_type": "code",
   "execution_count": null,
   "metadata": {},
   "outputs": [],
   "source": [
    "# 读取关系数据到dataframe\n",
    "sql = \"select count(1) from Relationships;\"\n",
    "cursor.execute(sql)   #执行sql语句\n",
    "row = cursor.fetchone()  #读取查询结果,\n",
    "print(\"Relationships表的数据共%s行\" % (row[0]))   #输出结果\n",
    "\n",
    "sql = \"select count(1) from Users;\"\n",
    "cursor.execute(sql) #执行sql语句 row = cursor.fetchone() #读取查询结果, print(\"Users表的数据共%s行\" % (row[0])) #输出结果\n",
    "\n",
    "sql = \"select * from Users;\"\n",
    "dfUser = pd.read_sql(sql, connect)\n",
    "print(\"\\nUsers表的基本信息：\")\n",
    "print(dfUser.info())\n",
    "\n",
    "print(\"\\nUsers表的样例数据：\")\n",
    "print(dfUser.head(5))\n",
    "\n",
    "sql = \"select * from Relationships;\"\n",
    "dfRel = pd.read_sql(sql, connect)\n",
    "print(\"\\nRelationships表的基本信息：\")\n",
    "print(dfRel.info())\n",
    "\n",
    "print(\"\\nRelationships表的样例数据：\")\n",
    "print(dfRel.head(5))\n",
    "# 20名用户的答案表\n",
    "sql = \"select * from Truth20;\"\n",
    "dfTruth = pd.read_sql(sql, connect)\n",
    "print(\"\\nTruth20表的基本信息：\")\n",
    "print(dfTruth.info())\n",
    "\n",
    "print(\"\\nTruth20表的样例数据：\")\n",
    "print(dfTruth.head(5))\n",
    "\n",
    "# 用于提交答案的Results表\n",
    "sql = \"select * from Results;\"\n",
    "dfResult = pd.read_sql(sql, connect)\n",
    "print(\"\\nResults表的基本信息：\")\n",
    "print(dfResult.info())\n",
    "\n",
    "print(\"\\nResults表的样例数据：\")\n",
    "print(dfResult.head(5))\n",
    "\n",
    "dfUser.to_csv(\"data/user.csv\", sep=',', encoding='utf-8', index=False)\n",
    "dfTruth.to_csv(\"data/truth.csv\", sep=',', encoding='utf-8', index=False)\n",
    "dfResult.to_csv(\"data/result.csv\", sep=',', encoding='utf-8', index=False)\n",
    "dfRel.to_csv(\"data/relation.csv\", sep=',', encoding='utf-8', index=False)"
   ]
  },
  {
   "cell_type": "markdown",
   "metadata": {},
   "source": [
    "# 数据分析"
   ]
  },
  {
   "cell_type": "code",
   "execution_count": 2,
   "metadata": {},
   "outputs": [],
   "source": [
    "import pandas as pd\n",
    "import numpy as np\n",
    "\n",
    "# 读取本地csv文件到dataframe\n",
    "dfUser = pd.read_csv(\"data/user.csv\", encoding='utf-8')\n",
    "dfRel = pd.read_csv(\"data/relation.csv\", encoding='utf-8')"
   ]
  },
  {
   "cell_type": "code",
   "execution_count": 58,
   "metadata": {},
   "outputs": [
    {
     "data": {
      "text/plain": [
       "[<matplotlib.lines.Line2D at 0x16a25451048>]"
      ]
     },
     "execution_count": 58,
     "metadata": {},
     "output_type": "execute_result"
    },
    {
     "data": {
      "image/png": "[encoded data removed]",
      "text/plain": [
       "<Figure size 432x288 with 1 Axes>"
      ]
     },
     "metadata": {
      "needs_background": "light"
     },
     "output_type": "display_data"
    }
   ],
   "source": [
    "import matplotlib.pyplot as plt\n",
    "from scipy.stats import gamma\n",
    "alpha = 1.65\n",
    "x = np.arange(0, 1500, 0.1)\n",
    "y = gamma.pdf(x, 3, scale=150)\n",
    "plt.plot(x, y)"
   ]
  },
  {
   "cell_type": "code",
   "execution_count": 60,
   "metadata": {},
   "outputs": [],
   "source": [
    "# loc函数取targetUser==1的用户的id\n",
    "targetUsers = dfUser.loc[dfUser['targetUser'] == 1, ['id']]\n",
    "\n",
    "# 关联二度好友\n",
    "df1 = pd.merge(targetUsers, dfRel, left_on=['id'], right_on=['userID'])\n",
    "df2 = pd.merge(df1, dfRel, left_on=['friendID'], right_on=['userID'])\n",
    "# 用group by计算共同好友数，形成分层索引；通过reset_index将series转为dataframe\n",
    "# df3 = df2.groupby(['id','friendID_y'])['friendID_x'].count().reset_index()\n",
    "friendNum = dfRel.groupby(['userID'])['friendID'].count().reset_index()\n",
    "friendNum.rename(columns={'friendID':'friendNum'}, inplace=True)\n",
    "df3 = pd.merge(df2, friendNum, left_on='friendID_x', right_on='userID')\n",
    "df3.drop(columns=['userID_x', 'userID_y','userID'],inplace = True)\n",
    "# 将结算结果改名为userID, ffID, CN\n",
    "df3.rename(columns={'id':'userID','friendID_y':'ffID','friendID_x':'CN_id','friendNum':'CN_friendNum'}, inplace=True)\n",
    "# df3[\"AA_index\"] = 1/df3[\"CN_friendNum\"]*np.log(df3[\"CN_friendNum\"])\n",
    "df3[\"AA_index\"] = gamma.pdf(df3[\"CN_friendNum\"], 3, scale=150) #AA_index\n",
    "df4 = df3.groupby(['userID','ffID'])['AA_index'].sum().reset_index()\n",
    "# 关联好友表，用于标记二度好友是否为好友\n",
    "df6 = pd.merge(df4, dfRel, how='left', left_on=['userID','ffID'], right_on=['userID','friendID'])\n",
    "# 将标记改为0,1，并改名为isFriend，数据类型改为int\n",
    "df6.loc[df6['friendID'].isnull(), ['friendID']]=0\n",
    "df6.loc[df6['friendID']>0, ['friendID']]=1\n",
    "df6.rename(columns={'friendID':'isFriend'}, inplace=True)\n",
    "df6['isFriend']=df6['isFriend'].astype(int)\n",
    "# 构造输出结果\n",
    "team = 'wbc_try_is_fake'\n",
    "batch = 11\n",
    "df7 = df6.loc[df6['isFriend']==0, ['userID','ffID',\"AA_index\"]]\n",
    "df7 = df7[df7['userID'] != df7['ffID']]\n",
    "\n",
    "# 选出前10推荐\n",
    "df7['rn']=df7.groupby('userID')['AA_index'].rank(ascending=False, method='first')\n",
    "df7.loc[df7['rn']<=15].to_csv(\"main.csv\",index = None)\n",
    "df7=df7.loc[df7['rn']<=10]\n",
    "df7.insert(0,'teamID',team)\n",
    "df7.insert(1,'batch',batch)\n",
    "df7.rename(columns={'AA_index':'sIndex'},inplace=True)"
   ]
  },
  {
   "cell_type": "code",
   "execution_count": 52,
   "metadata": {},
   "outputs": [
    {
     "data": {
      "text/html": [
       "<div>\n",
       "<style scoped>\n",
       "    .dataframe tbody tr th:only-of-type {\n",
       "        vertical-align: middle;\n",
       "    }\n",
       "\n",
       "    .dataframe tbody tr th {\n",
       "        vertical-align: top;\n",
       "    }\n",
       "\n",
       "    .dataframe thead th {\n",
       "        text-align: right;\n",
       "    }\n",
       "</style>\n",
       "<table border=\"1\" class=\"dataframe\">\n",
       "  <thead>\n",
       "    <tr style=\"text-align: right;\">\n",
       "      <th></th>\n",
       "      <th>teamID</th>\n",
       "      <th>batch</th>\n",
       "      <th>userID</th>\n",
       "      <th>ffID</th>\n",
       "      <th>sIndex</th>\n",
       "      <th>rn</th>\n",
       "    </tr>\n",
       "  </thead>\n",
       "  <tbody>\n",
       "    <tr>\n",
       "      <th>340</th>\n",
       "      <td>wbc_try_is_fake</td>\n",
       "      <td>10</td>\n",
       "      <td>87702431</td>\n",
       "      <td>167729505</td>\n",
       "      <td>0.013834</td>\n",
       "      <td>1.0</td>\n",
       "    </tr>\n",
       "    <tr>\n",
       "      <th>349</th>\n",
       "      <td>wbc_try_is_fake</td>\n",
       "      <td>10</td>\n",
       "      <td>87702431</td>\n",
       "      <td>168921263</td>\n",
       "      <td>0.010862</td>\n",
       "      <td>7.0</td>\n",
       "    </tr>\n",
       "    <tr>\n",
       "      <th>601</th>\n",
       "      <td>wbc_try_is_fake</td>\n",
       "      <td>10</td>\n",
       "      <td>87702431</td>\n",
       "      <td>229525517</td>\n",
       "      <td>0.010151</td>\n",
       "      <td>9.0</td>\n",
       "    </tr>\n",
       "    <tr>\n",
       "      <th>2902</th>\n",
       "      <td>wbc_try_is_fake</td>\n",
       "      <td>10</td>\n",
       "      <td>87702431</td>\n",
       "      <td>561054567</td>\n",
       "      <td>0.009857</td>\n",
       "      <td>10.0</td>\n",
       "    </tr>\n",
       "    <tr>\n",
       "      <th>3013</th>\n",
       "      <td>wbc_try_is_fake</td>\n",
       "      <td>10</td>\n",
       "      <td>87702431</td>\n",
       "      <td>565648357</td>\n",
       "      <td>0.011241</td>\n",
       "      <td>5.0</td>\n",
       "    </tr>\n",
       "    <tr>\n",
       "      <th>...</th>\n",
       "      <td>...</td>\n",
       "      <td>...</td>\n",
       "      <td>...</td>\n",
       "      <td>...</td>\n",
       "      <td>...</td>\n",
       "      <td>...</td>\n",
       "    </tr>\n",
       "    <tr>\n",
       "      <th>1205402</th>\n",
       "      <td>wbc_try_is_fake</td>\n",
       "      <td>10</td>\n",
       "      <td>3195846773</td>\n",
       "      <td>548166323</td>\n",
       "      <td>0.000208</td>\n",
       "      <td>10.0</td>\n",
       "    </tr>\n",
       "    <tr>\n",
       "      <th>1205461</th>\n",
       "      <td>wbc_try_is_fake</td>\n",
       "      <td>10</td>\n",
       "      <td>3195846773</td>\n",
       "      <td>568855531</td>\n",
       "      <td>0.000236</td>\n",
       "      <td>8.0</td>\n",
       "    </tr>\n",
       "    <tr>\n",
       "      <th>1205500</th>\n",
       "      <td>wbc_try_is_fake</td>\n",
       "      <td>10</td>\n",
       "      <td>3195846773</td>\n",
       "      <td>585999285</td>\n",
       "      <td>0.000285</td>\n",
       "      <td>6.0</td>\n",
       "    </tr>\n",
       "    <tr>\n",
       "      <th>1205555</th>\n",
       "      <td>wbc_try_is_fake</td>\n",
       "      <td>10</td>\n",
       "      <td>3195846773</td>\n",
       "      <td>643975677</td>\n",
       "      <td>0.000279</td>\n",
       "      <td>7.0</td>\n",
       "    </tr>\n",
       "    <tr>\n",
       "      <th>1205641</th>\n",
       "      <td>wbc_try_is_fake</td>\n",
       "      <td>10</td>\n",
       "      <td>3195846773</td>\n",
       "      <td>3072266523</td>\n",
       "      <td>0.000319</td>\n",
       "      <td>3.0</td>\n",
       "    </tr>\n",
       "  </tbody>\n",
       "</table>\n",
       "<p>2411 rows × 6 columns</p>\n",
       "</div>"
      ],
      "text/plain": [
       "                  teamID  batch      userID        ffID    sIndex    rn\n",
       "340      wbc_try_is_fake     10    87702431   167729505  0.013834   1.0\n",
       "349      wbc_try_is_fake     10    87702431   168921263  0.010862   7.0\n",
       "601      wbc_try_is_fake     10    87702431   229525517  0.010151   9.0\n",
       "2902     wbc_try_is_fake     10    87702431   561054567  0.009857  10.0\n",
       "3013     wbc_try_is_fake     10    87702431   565648357  0.011241   5.0\n",
       "...                  ...    ...         ...         ...       ...   ...\n",
       "1205402  wbc_try_is_fake     10  3195846773   548166323  0.000208  10.0\n",
       "1205461  wbc_try_is_fake     10  3195846773   568855531  0.000236   8.0\n",
       "1205500  wbc_try_is_fake     10  3195846773   585999285  0.000285   6.0\n",
       "1205555  wbc_try_is_fake     10  3195846773   643975677  0.000279   7.0\n",
       "1205641  wbc_try_is_fake     10  3195846773  3072266523  0.000319   3.0\n",
       "\n",
       "[2411 rows x 6 columns]"
      ]
     },
     "execution_count": 52,
     "metadata": {},
     "output_type": "execute_result"
    }
   ],
   "source": [
    "df7"
   ]
  },
  {
   "cell_type": "code",
   "execution_count": null,
   "metadata": {},
   "outputs": [],
   "source": [
    "# # loc函数取targetUser==1的用户的id\n",
    "# targetUsers = dfUser.loc[dfUser['targetUser'] == 1, ['id']]\n",
    "\n",
    "# # 关联二度好友\n",
    "# df1 = pd.merge(targetUsers, dfRel, left_on=['id'], right_on=['userID'])\n",
    "# df2 = pd.merge(df1, dfRel, left_on=['friendID'], right_on=['userID'])\n",
    "# # 用group by计算共同好友数，形成分层索引；通过reset_index将series转为dataframe\n",
    "# # df3 = df2.groupby(['id','friendID_y'])['friendID_x'].count().reset_index()\n",
    "# friendNum = dfRel.groupby(['userID'])['friendID'].count().reset_index()\n",
    "# friendNum.rename(columns={'friendID':'friendNum'}, inplace=True)\n",
    "# df3 = pd.merge(df2, friendNum, left_on='friendID_x', right_on='userID')\n",
    "# df3.drop(columns=['friendID_x', 'friendID_y','userID'],inplace = True)\n",
    "# # 将结算结果改名为userID, ffID, CN\n",
    "# df3.rename(columns={'id':'userID','friendID_y':'ffID','friendID_x':'CN_id','friendNum':'CN_friendNum'}, inplace=True)\n",
    "\n",
    "# # 补充用户信息\n",
    "# df4 = pd.merge(df3, dfUser, left_on='userID', right_on='id')\n",
    "# df5 = pd.merge(df4, dfUser, left_on='ffID', right_on='id')\n",
    "\n",
    "# # 关联好友表，用于标记二度好友是否为好友\n",
    "# df6 = pd.merge(df5, dfRel, how='left', left_on=['userID','ffID'], right_on=['userID','friendID'])\n",
    "# # 将标记改为0,1，并改名为isFriend，数据类型改为int\n",
    "# df6.loc[df6['friendID'].isnull(), ['friendID']]=0\n",
    "# df6.loc[df6['friendID']>0, ['friendID']]=1\n",
    "# df6.rename(columns={'friendID':'isFriend'}, inplace=True)\n",
    "# df6['isFriend']=df6['isFriend'].astype(int)\n",
    "# # 计算指标\n",
    "# df6['s_Salton']=df6['CN']/df6['nFriends_x']*df6['nFriends_y']\n",
    "# # print(df6.loc[df6['isFriend']>0].info())\n",
    "# # 构造输出结果\n",
    "# team = 'naive_benchmark'\n",
    "# team = 'try_1'\n",
    "# batch = 1\n",
    "# df7 = df6.loc[df6['isFriend']==0, ['userID','ffID','s_Salton']]\n"
   ]
  },
  {
   "cell_type": "code",
   "execution_count": null,
   "metadata": {},
   "outputs": [],
   "source": [
    "df7[df7[\"AA_index\"]==np.inf]"
   ]
  },
  {
   "cell_type": "code",
   "execution_count": null,
   "metadata": {},
   "outputs": [],
   "source": [
    "from sqlalchemy.types import VARCHAR,DECIMAL\n",
    "def setdtypedict(df):\n",
    "    dtypedict = {}\n",
    "    for i, j in zip(df.columns, df.dtypes):\n",
    "        if \"object\" in str(j):\n",
    "            dtypedict.update({i:VARCHAR(256)})\n",
    "        if \"float\" in str(j):\n",
    "            dtypedict.update({i:DECIMAL(19, 2)})\n",
    "        if \"int\" in str(j):\n",
    "            dtypedict.update({i:DECIMAL(19)})\n",
    "    return dtypedict\n",
    "\n",
    "d_type=setdtypedict(df7)\n",
    "df7.to_sql('Results', engine, index=False, if_exists='append', dtype=d_type, chunksize=1000)"
   ]
  },
  {
   "cell_type": "markdown",
   "metadata": {},
   "source": [
    "# 机器学习"
   ]
  },
  {
   "cell_type": "code",
   "execution_count": 1,
   "metadata": {},
   "outputs": [],
   "source": [
    "import pandas as pd\n",
    "import numpy as np\n",
    "\n",
    "# 读取本地csv文件到dataframe\n",
    "dfUser = pd.read_csv(\"data/user.csv\")\n",
    "dfRel = pd.read_csv(\"data/relation.csv\")\n",
    "dfTruth = pd.read_csv(\"data/truth.csv\")\n",
    "# dfX = pd.read_csv(\"X_matrix.csv\")\n",
    "friendNum = dfRel.groupby(['userID'])['friendID'].count().reset_index()\n",
    "friendNum_dic = dict(zip(friendNum['userID'],friendNum['friendID']))"
   ]
  },
  {
   "cell_type": "code",
   "execution_count": 7,
   "metadata": {},
   "outputs": [
    {
     "data": {
      "text/plain": [
       "array([433., 663.,  59., ..., 473., 225., 229.])"
      ]
     },
     "execution_count": 7,
     "metadata": {},
     "output_type": "execute_result"
    }
   ],
   "source": [
    "dfUser[dfUser[\"nFriends\"].notna()][\"nFriends\"].values"
   ]
  },
  {
   "cell_type": "code",
   "execution_count": 9,
   "metadata": {},
   "outputs": [
    {
     "data": {
      "text/plain": [
       "561.0"
      ]
     },
     "execution_count": 9,
     "metadata": {},
     "output_type": "execute_result"
    }
   ],
   "source": [
    "np.median(dfUser[dfUser[\"nFriends\"].notna()][\"nFriends\"].values)"
   ]
  },
  {
   "cell_type": "code",
   "execution_count": 10,
   "metadata": {},
   "outputs": [
    {
     "data": {
      "text/plain": [
       "726.914331417738"
      ]
     },
     "execution_count": 10,
     "metadata": {},
     "output_type": "execute_result"
    }
   ],
   "source": [
    "np.average(dfUser[dfUser[\"nFriends\"].notna()][\"nFriends\"].values)"
   ]
  },
  {
   "cell_type": "code",
   "execution_count": 12,
   "metadata": {},
   "outputs": [],
   "source": [
    "a = dfUser[dfUser[\"nFriends\"].notna()][\"nFriends\"]"
   ]
  },
  {
   "cell_type": "code",
   "execution_count": 21,
   "metadata": {},
   "outputs": [
    {
     "data": {
      "text/plain": [
       "412"
      ]
     },
     "execution_count": 21,
     "metadata": {},
     "output_type": "execute_result"
    }
   ],
   "source": [
    "len(a[a<=10])"
   ]
  },
  {
   "cell_type": "markdown",
   "metadata": {},
   "source": [
    "## 1. 构建样本"
   ]
  },
  {
   "cell_type": "code",
   "execution_count": null,
   "metadata": {},
   "outputs": [],
   "source": [
    "#-*- coding:utf-8 -*-\n",
    "import random\n",
    "dfRel[\"is_friend\"] = 1\n",
    "# 概率入样\n",
    "target_num = 1926400 #样本数量\n",
    "user_list = list(dfUser[\"id\"].values)\n",
    "n = int(target_num/len(user_list))\n",
    "for userID in user_list:\n",
    "    not_friends = list(dfUser[\"id\"].values)\n",
    "    friend_list = list(dfRel[dfRel[\"userID\"]==userID][\"friendID\"].values)\n",
    "    friend_list.append(userID)\n",
    "    for i in friend_list:\n",
    "        try:\n",
    "            not_friends.remove(i)\n",
    "        except:\n",
    "            print(userID,i)\n",
    "    sample_list = random.sample(not_friends, n)\n",
    "    temp = pd.DataFrame(sample_list,columns = [\"friendID\"])\n",
    "    temp[\"userID\"] = userID\n",
    "    temp[\"is_friend\"] = 0\n",
    "    dfRel = pd.concat([dfRel, temp], ignore_index=True)"
   ]
  },
  {
   "cell_type": "code",
   "execution_count": null,
   "metadata": {},
   "outputs": [],
   "source": [
    "data = pd.merge(dfRel,dfUser, left_on=['userID'], right_on=['id'])\n",
    "data = pd.merge(data,dfUser, left_on=['friendID'], right_on=['id'])\n",
    "data[\"fName\"] = (data[\"fName_x\"]==data[\"fName_y\"])\n",
    "data[\"homeProvince\"] = (data[\"homeProvince_x\"]==data[\"homeProvince_y\"])\n",
    "data[\"homeCity\"] = (data[\"homeCity_x\"]==data[\"homeCity_y\"])\n",
    "data[\"location\"] = (data[\"location_x\"]==data[\"location_y\"])\n",
    "data[\"privacy_mixture\"] = data[\"privacy_x\"]*data[\"privacy_y\"]\n",
    "data[\"gender\"] = (data[\"gender_x\"]==data[\"gender_y\"])\n",
    "data[\"nVisits_mixture\"] = data[\"nVisits_x\"]*data[\"nVisits_y\"]\n",
    "data[\"nShortPosts_mixture\"] = data[\"nShortPosts_x\"]*data[\"nShortPosts_y\"]\n",
    "data[\"nAlbums_mixture\"] = data[\"nAlbums_x\"]*data[\"nAlbums_y\"]\n",
    "data[\"nShares_mixture\"] = data[\"nShares_x\"]*data[\"nShares_y\"]\n",
    "data[\"nPosts_mixture\"] = data[\"nPosts_x\"]*data[\"nPosts_y\"]\n",
    "data[\"nLike_mixture\"] = data[\"nLike_x\"]*data[\"nLike_y\"]\n",
    "data[\"mobileUser\"] = (data[\"mobileUser_x\"]==data[\"mobileUser_y\"])\n",
    "data[\"starUser_mixture\"] = (data[\"starUser_x\"]*data[\"starUser_y\"])\n",
    "data.drop(columns = ['id_x', 'targetUser_x', 'fName_x', 'gender_x','starUser_x', 'mobileUser_x', 'homeProvince_x', 'homeCity_x','nFriends_x', 'nLike_x', 'nPosts_x', 'nShares_x', 'nAlbums_x','nShortPosts_x', 'nVisits_x', 'location_x', 'privacy_x', 'timeline_x','id_y', 'targetUser_y', 'fName_y', 'gender_y', 'starUser_y','mobileUser_y', 'homeProvince_y', 'homeCity_y', 'nFriends_y', 'nLike_y','nPosts_y', 'nShares_y', 'nAlbums_y', 'nShortPosts_y', 'nVisits_y','location_y', 'privacy_y', 'timeline_y'],inplace = True)\n",
    "data.to_csv(\"X_matrix.csv\",index=None)"
   ]
  },
  {
   "cell_type": "markdown",
   "metadata": {},
   "source": [
    "## 构建AAindex"
   ]
  },
  {
   "cell_type": "code",
   "execution_count": null,
   "metadata": {},
   "outputs": [],
   "source": [
    "import pandas as pd\n",
    "dfUser = pd.read_csv(\"data/user.csv\")\n",
    "dfRel = pd.read_csv(\"data/relation.csv\")\n",
    "dfTruth = pd.read_csv(\"data/truth.csv\")\n",
    "dfX = pd.read_csv(\"result.csv\")\n",
    "friendNum = dfRel.groupby(['userID'])['friendID'].count().reset_index()\n",
    "friendNum_dic = dict(zip(friendNum['userID'],friendNum['friendID']))\n",
    "user_list = dfX.loc[:,\"userID\":\"friendID\"]"
   ]
  },
  {
   "cell_type": "code",
   "execution_count": null,
   "metadata": {},
   "outputs": [],
   "source": [
    "Rel_matrix = pd.merge(dfRel, dfRel, left_on=['friendID'], right_on=['userID'])\n",
    "Rel_matrix = pd.merge(Rel_matrix, friendNum, left_on='friendID_x', right_on='userID')"
   ]
  },
  {
   "cell_type": "code",
   "execution_count": null,
   "metadata": {},
   "outputs": [],
   "source": [
    "# Rel_matrix = pd.merge(Rel_matrix,user_list, left_on=['userID',\"ffID\"], right_on=[\"userID\",\"friendID\"],how = \"inner\")"
   ]
  },
  {
   "cell_type": "code",
   "execution_count": null,
   "metadata": {},
   "outputs": [],
   "source": [
    "Rel_matrix"
   ]
  },
  {
   "cell_type": "code",
   "execution_count": null,
   "metadata": {},
   "outputs": [],
   "source": [
    "# Rel_matrix.drop(columns=['userID_y','userID'],inplace = True)\n",
    "# 将结算结果改名为userID, ffID, CN\n",
    "# Rel_matrix.rename(columns={'userID_x':'userID','friendID_y':'ffID','friendID_x':'CN_id','friendID':'CN_friendNum'}, inplace=True)\n",
    "Rel_matrix[\"AA_index\"] = 1/Rel_matrix[\"friendID\"]*np.log(Rel_matrix[\"friendID\"])\n",
    "Rel_matrix = Rel_matrix.groupby(['userID_x','friendID_y'])['AA_index'].sum().reset_index()\n",
    "Rel_matrix.rename(columns={'userID_x':'userID','friendID_y':'ffID'}, inplace=True)\n",
    "Rel_matrix.to_csv(\"AA_index.csv\",index = None)\n",
    "dfX = pd.merge(dfX, Rel_matrix, left_on=[\"userID\",\"friendID\"], right_on=[\"userID\",\"ffID\"],how = \"left\")\n",
    "dfX.to_csv(\"result.csv\",index = None)"
   ]
  },
  {
   "cell_type": "code",
   "execution_count": null,
   "metadata": {},
   "outputs": [],
   "source": [
    "dfX[dfX[\"AA_index\"].notna()][\"is_friend\"].value_counts()"
   ]
  },
  {
   "cell_type": "markdown",
   "metadata": {},
   "source": [
    "# 构建新X"
   ]
  },
  {
   "cell_type": "code",
   "execution_count": null,
   "metadata": {},
   "outputs": [],
   "source": [
    "import pandas as pd\n",
    "df_ffRel = pd.read_csv(\"AA_index.csv\")\n",
    "dfRel = pd.read_csv(\"data/relation.csv\")\n",
    "dfRel[\"is_friend\"] = 1\n",
    "df_ffRel = pd.merge(df_ffRel,dfRel, left_on=[\"userID\",\"ffID\"], right_on=[\"userID\",\"friendID\"],how = \"left\")\n",
    "df_ffRel.loc[df_ffRel[\"is_friend\"].isna(),\"is_friend\"] = 0\n",
    "# df_ffRel.sample()\n",
    "df_ffRel.drop(columns = [\"friendID\"],inplace = True)"
   ]
  },
  {
   "cell_type": "code",
   "execution_count": null,
   "metadata": {},
   "outputs": [],
   "source": [
    "a = df_ffRel[df_ffRel[\"is_friend\"] == 0].sample(1900000,ignore_index=True)\n",
    "b = df_ffRel[df_ffRel[\"is_friend\"] == 1]\n",
    "data = pd.concat([a,b])"
   ]
  },
  {
   "cell_type": "code",
   "execution_count": null,
   "metadata": {},
   "outputs": [],
   "source": [
    "dfUser = pd.read_csv(\"data/user.csv\")\n",
    "targetUsers = dfUser.loc[dfUser['targetUser'] == 1, ['id']].values.reshape(-1).tolist()\n",
    "def is_target_user(x):\n",
    "    if x in targetUsers:\n",
    "        return True\n",
    "    else:\n",
    "        return False\n",
    "data[\"is_target_user\"] = data[\"userID\"].apply(lambda x: is_target_user(x))\n",
    "df_ffRel = data[data[\"is_target_user\"] == False]\n",
    "df_ffRel = df_ffRel.drop(columns=[\"is_target_user\"])"
   ]
  },
  {
   "cell_type": "code",
   "execution_count": null,
   "metadata": {},
   "outputs": [],
   "source": [
    "data = pd.merge(df_ffRel,dfUser, left_on=['userID'], right_on=['id'])\n",
    "data = pd.merge(data,dfUser, left_on=['ffID'], right_on=['id'])\n",
    "data[\"fName\"] = (data[\"fName_x\"]==data[\"fName_y\"])\n",
    "data[\"homeProvince\"] = (data[\"homeProvince_x\"]==data[\"homeProvince_y\"])\n",
    "data[\"homeCity\"] = (data[\"homeCity_x\"]==data[\"homeCity_y\"])\n",
    "data[\"location\"] = (data[\"location_x\"]==data[\"location_y\"])\n",
    "data[\"privacy_mixture\"] = data[\"privacy_x\"]*data[\"privacy_y\"]\n",
    "data[\"gender\"] = (data[\"gender_x\"]==data[\"gender_y\"])\n",
    "data[\"nVisits_mixture\"] = data[\"nVisits_x\"]*data[\"nVisits_y\"]\n",
    "data[\"nShortPosts_mixture\"] = data[\"nShortPosts_x\"]*data[\"nShortPosts_y\"]\n",
    "data[\"nAlbums_mixture\"] = data[\"nAlbums_x\"]*data[\"nAlbums_y\"]\n",
    "data[\"nShares_mixture\"] = data[\"nShares_x\"]*data[\"nShares_y\"]\n",
    "data[\"nPosts_mixture\"] = data[\"nPosts_x\"]*data[\"nPosts_y\"]\n",
    "data[\"nLike_mixture\"] = data[\"nLike_x\"]*data[\"nLike_y\"]\n",
    "data[\"mobileUser\"] = (data[\"mobileUser_x\"]==data[\"mobileUser_y\"])\n",
    "data[\"starUser_mixture\"] = (data[\"starUser_x\"]*data[\"starUser_y\"])\n",
    "data.drop(columns = ['id_x', 'fName_x', 'gender_x','starUser_x', 'mobileUser_x', 'homeProvince_x', 'homeCity_x','nFriends_x', 'nLike_x', 'nPosts_x', 'nShares_x', 'nAlbums_x','nShortPosts_x', 'nVisits_x', 'location_x', 'privacy_x', 'timeline_x','id_y', 'fName_y', 'gender_y', 'starUser_y','mobileUser_y', 'homeProvince_y', 'homeCity_y', 'nFriends_y', 'nLike_y','nPosts_y', 'nShares_y', 'nAlbums_y', 'nShortPosts_y', 'nVisits_y','location_y', 'privacy_y', 'timeline_y'],inplace = True)\n",
    "data.to_csv(\"X_matrix.csv\",index=None)"
   ]
  },
  {
   "cell_type": "markdown",
   "metadata": {},
   "source": [
    "## 构建预测目标样本"
   ]
  },
  {
   "cell_type": "code",
   "execution_count": null,
   "metadata": {},
   "outputs": [],
   "source": [
    "# loc函数取targetUser==1的用户的id\n",
    "targetUsers = dfUser.loc[dfUser['targetUser'] == 1, ['id']]\n",
    "\n",
    "# 关联二度好友\n",
    "df1 = pd.merge(targetUsers, dfRel, left_on=['id'], right_on=['userID'])\n",
    "df2 = pd.merge(df1, dfRel, left_on=['friendID'], right_on=['userID'])\n",
    "# 用group by计算共同好友数，形成分层索引；通过reset_index将series转为dataframe\n",
    "# df3 = df2.groupby(['id','friendID_y'])['friendID_x'].count().reset_index()\n",
    "friendNum = dfRel.groupby(['userID'])['friendID'].count().reset_index()\n",
    "friendNum.rename(columns={'friendID':'friendNum'}, inplace=True)\n",
    "df3 = pd.merge(df2, friendNum, left_on='friendID_x', right_on='userID')\n",
    "df3.drop(columns=['userID_x', 'userID_y','userID'],inplace = True)\n",
    "# 将结算结果改名为userID, ffID, CN\n",
    "df3.rename(columns={'id':'userID','friendID_y':'ffID','friendID_x':'CN_id','friendNum':'CN_friendNum'}, inplace=True)\n",
    "df3[\"AA_index\"] = 1/df3[\"CN_friendNum\"]*np.log(df3[\"CN_friendNum\"])\n",
    "df4 = df3.groupby(['userID','ffID'])['AA_index'].sum().reset_index()\n",
    "# 关联好友表，用于标记二度好友是否为好友\n",
    "df6 = pd.merge(df4, dfRel, how='left', left_on=['userID','ffID'], right_on=['userID','friendID'])\n",
    "# 将标记改为0,1，并改名为isFriend，数据类型改为int\n",
    "df6.loc[df6['friendID'].isnull(), ['friendID']]=0\n",
    "df6.loc[df6['friendID']>0, ['friendID']]=1\n",
    "df6.rename(columns={'friendID':'isFriend'}, inplace=True)\n",
    "df6['isFriend']=df6['isFriend'].astype(int)\n",
    "# 构造输出结果\n",
    "team = 'naive_benchmark'\n",
    "batch = 5\n",
    "df7 = df6.loc[df6['isFriend']==0, ['userID','ffID',\"AA_index\"]]\n",
    "df7 = df7[df7['userID'] != df7['ffID']]"
   ]
  },
  {
   "cell_type": "code",
   "execution_count": null,
   "metadata": {},
   "outputs": [],
   "source": [
    "data = pd.merge(df7,dfUser, left_on=['userID'], right_on=['id'])\n",
    "data = pd.merge(data,dfUser, left_on=['ffID'], right_on=['id'])\n",
    "data[\"fName\"] = (data[\"fName_x\"]==data[\"fName_y\"])\n",
    "data[\"homeProvince\"] = (data[\"homeProvince_x\"]==data[\"homeProvince_y\"])\n",
    "data[\"homeCity\"] = (data[\"homeCity_x\"]==data[\"homeCity_y\"])\n",
    "data[\"location\"] = (data[\"location_x\"]==data[\"location_y\"])\n",
    "data[\"privacy_mixture\"] = data[\"privacy_x\"]*data[\"privacy_y\"]\n",
    "data[\"gender\"] = (data[\"gender_x\"]==data[\"gender_y\"])\n",
    "data[\"nVisits_mixture\"] = data[\"nVisits_x\"]*data[\"nVisits_y\"]\n",
    "data[\"nShortPosts_mixture\"] = data[\"nShortPosts_x\"]*data[\"nShortPosts_y\"]\n",
    "data[\"nAlbums_mixture\"] = data[\"nAlbums_x\"]*data[\"nAlbums_y\"]\n",
    "data[\"nShares_mixture\"] = data[\"nShares_x\"]*data[\"nShares_y\"]\n",
    "data[\"nPosts_mixture\"] = data[\"nPosts_x\"]*data[\"nPosts_y\"]\n",
    "data[\"nLike_mixture\"] = data[\"nLike_x\"]*data[\"nLike_y\"]\n",
    "data[\"mobileUser\"] = (data[\"mobileUser_x\"]==data[\"mobileUser_y\"])\n",
    "data[\"starUser_mixture\"] = (data[\"starUser_x\"]*data[\"starUser_y\"])\n",
    "data.drop(columns = ['id_x', 'targetUser_x', 'fName_x', 'gender_x','starUser_x', 'mobileUser_x', 'homeProvince_x', 'homeCity_x','nFriends_x', 'nLike_x', 'nPosts_x', 'nShares_x', 'nAlbums_x','nShortPosts_x', 'nVisits_x', 'location_x', 'privacy_x', 'timeline_x','id_y', 'targetUser_y', 'fName_y', 'gender_y', 'starUser_y','mobileUser_y', 'homeProvince_y', 'homeCity_y', 'nFriends_y', 'nLike_y','nPosts_y', 'nShares_y', 'nAlbums_y', 'nShortPosts_y', 'nVisits_y','location_y', 'privacy_y', 'timeline_y'],inplace = True)\n",
    "data.to_csv(\"target_matrix.csv\",index=None)"
   ]
  },
  {
   "cell_type": "markdown",
   "metadata": {},
   "source": [
    "## 数据预处理"
   ]
  },
  {
   "cell_type": "code",
   "execution_count": 3,
   "metadata": {},
   "outputs": [],
   "source": [
    "df = pd.read_csv(\"data/result_6.csv\")\n",
    "df2 = pd.read_csv(\"main.csv\")"
   ]
  },
  {
   "cell_type": "code",
   "execution_count": 4,
   "metadata": {},
   "outputs": [],
   "source": [
    "team = 'wbc_try_is_fake'\n",
    "batch = 3\n",
    "df7 = df[df['userID'] != df['ffID']]\n",
    "\n",
    "# 选出前10推荐\n",
    "df7['rn']=df7.groupby('userID')[\"is_friend_prob\"].rank(ascending=False, method='first')\n",
    "df2 = df2[df2['userID'] != df2['ffID']]"
   ]
  },
  {
   "cell_type": "code",
   "execution_count": 5,
   "metadata": {},
   "outputs": [],
   "source": [
    "# df7=df7.loc[df7['rn']<=10,[\"userID\",\"ffID\",\"is_friend_prob\",\"rn\"]]\n",
    "# df7.insert(0,'teamID',team)\n",
    "# df7.insert(1,'batch',batch)\n",
    "# df7.rename(columns={\"is_friend_prob\":'sIndex'},inplace=True)"
   ]
  },
  {
   "cell_type": "code",
   "execution_count": 29,
   "metadata": {},
   "outputs": [],
   "source": [
    "df8=df7.loc[df7['rn']<=5,[\"userID\",\"ffID\",\"is_friend_prob\",\"rn\"]]\n",
    "df8.rename(columns={\"is_friend_prob\":'sIndex'},inplace=True)"
   ]
  },
  {
   "cell_type": "code",
   "execution_count": 30,
   "metadata": {},
   "outputs": [
    {
     "name": "stderr",
     "output_type": "stream",
     "text": [
      "c:\\Users\\zjchenb139\\AppData\\Local\\Programs\\Python\\Python37\\lib\\site-packages\\ipykernel_launcher.py:4: SettingWithCopyWarning: \n",
      "A value is trying to be set on a copy of a slice from a DataFrame.\n",
      "Try using .loc[row_indexer,col_indexer] = value instead\n",
      "\n",
      "See the caveats in the documentation: https://pandas.pydata.org/pandas-docs/stable/user_guide/indexing.html#returning-a-view-versus-a-copy\n",
      "  after removing the cwd from sys.path.\n"
     ]
    }
   ],
   "source": [
    "data = pd.merge(df2, df8, left_on=[\"userID\",\"ffID\"], right_on=[\"userID\",\"ffID\"],how = \"left\")\n",
    "data[\"rn2\"] = data[data[\"rn_y\"].isna()].groupby('userID')[\"AA_index\"].rank(ascending=False, method='first')\n",
    "df9=data.loc[data['rn2']<=5]\n",
    "df9[\"rn\"] = df9[\"rn2\"]+5\n",
    "df9 = df9.loc[:,[\"userID\",\"AA_index\",\"ffID\",\"rn\"]]\n",
    "df9.rename(columns={\"AA_index\":'sIndex'},inplace=True)"
   ]
  },
  {
   "cell_type": "code",
   "execution_count": 31,
   "metadata": {},
   "outputs": [],
   "source": [
    "df10 = pd.concat([df8,df9])\n",
    "df10.insert(0,'teamID',team)\n",
    "df10.insert(1,'batch',batch)"
   ]
  },
  {
   "cell_type": "code",
   "execution_count": 61,
   "metadata": {},
   "outputs": [],
   "source": [
    "from sqlalchemy.types import VARCHAR,DECIMAL\n",
    "def setdtypedict(df):\n",
    "    dtypedict = {}\n",
    "    for i, j in zip(df.columns, df.dtypes):\n",
    "        if \"object\" in str(j):\n",
    "            dtypedict.update({i:VARCHAR(256)})\n",
    "        if \"float\" in str(j):\n",
    "            dtypedict.update({i:DECIMAL(19, 2)})\n",
    "        if \"int\" in str(j):\n",
    "            dtypedict.update({i:DECIMAL(19)})\n",
    "    return dtypedict\n",
    "\n",
    "d_type=setdtypedict(df7)\n",
    "df7.to_sql('Results', engine, index=False, if_exists='append', dtype=d_type, chunksize=1000)"
   ]
  },
  {
   "cell_type": "code",
   "execution_count": 62,
   "metadata": {},
   "outputs": [],
   "source": [
    "# 打印结果表单\n",
    "sql = \"select * from scoreSheetA\"\n",
    "a = pd.read_sql(sql, connect).sort_values(by=['pScore'],ascending=False)"
   ]
  },
  {
   "cell_type": "code",
   "execution_count": 63,
   "metadata": {},
   "outputs": [
    {
     "data": {
      "text/html": [
       "<div>\n",
       "<style scoped>\n",
       "    .dataframe tbody tr th:only-of-type {\n",
       "        vertical-align: middle;\n",
       "    }\n",
       "\n",
       "    .dataframe tbody tr th {\n",
       "        vertical-align: top;\n",
       "    }\n",
       "\n",
       "    .dataframe thead th {\n",
       "        text-align: right;\n",
       "    }\n",
       "</style>\n",
       "<table border=\"1\" class=\"dataframe\">\n",
       "  <thead>\n",
       "    <tr style=\"text-align: right;\">\n",
       "      <th></th>\n",
       "      <th>teamID</th>\n",
       "      <th>batch</th>\n",
       "      <th>pAT5</th>\n",
       "      <th>pAT10</th>\n",
       "      <th>pScore</th>\n",
       "    </tr>\n",
       "  </thead>\n",
       "  <tbody>\n",
       "    <tr>\n",
       "      <th>339</th>\n",
       "      <td>emm</td>\n",
       "      <td>15</td>\n",
       "      <td>0.83</td>\n",
       "      <td>0.735</td>\n",
       "      <td>0.802</td>\n",
       "    </tr>\n",
       "    <tr>\n",
       "      <th>85</th>\n",
       "      <td>emm</td>\n",
       "      <td>14</td>\n",
       "      <td>0.83</td>\n",
       "      <td>0.735</td>\n",
       "      <td>0.802</td>\n",
       "    </tr>\n",
       "    <tr>\n",
       "      <th>322</th>\n",
       "      <td>emmemm</td>\n",
       "      <td>9</td>\n",
       "      <td>0.83</td>\n",
       "      <td>0.735</td>\n",
       "      <td>0.802</td>\n",
       "    </tr>\n",
       "    <tr>\n",
       "      <th>126</th>\n",
       "      <td>对不起这真的是个意外</td>\n",
       "      <td>9</td>\n",
       "      <td>0.83</td>\n",
       "      <td>0.735</td>\n",
       "      <td>0.802</td>\n",
       "    </tr>\n",
       "    <tr>\n",
       "      <th>252</th>\n",
       "      <td>emm</td>\n",
       "      <td>16</td>\n",
       "      <td>0.83</td>\n",
       "      <td>0.735</td>\n",
       "      <td>0.802</td>\n",
       "    </tr>\n",
       "    <tr>\n",
       "      <th>...</th>\n",
       "      <td>...</td>\n",
       "      <td>...</td>\n",
       "      <td>...</td>\n",
       "      <td>...</td>\n",
       "      <td>...</td>\n",
       "    </tr>\n",
       "    <tr>\n",
       "      <th>149</th>\n",
       "      <td>听我说谢谢你</td>\n",
       "      <td>3</td>\n",
       "      <td>0.00</td>\n",
       "      <td>0.000</td>\n",
       "      <td>0.000</td>\n",
       "    </tr>\n",
       "    <tr>\n",
       "      <th>210</th>\n",
       "      <td>test-1</td>\n",
       "      <td>4</td>\n",
       "      <td>0.00</td>\n",
       "      <td>0.000</td>\n",
       "      <td>0.000</td>\n",
       "    </tr>\n",
       "    <tr>\n",
       "      <th>163</th>\n",
       "      <td>111111</td>\n",
       "      <td>3</td>\n",
       "      <td>0.00</td>\n",
       "      <td>0.000</td>\n",
       "      <td>0.000</td>\n",
       "    </tr>\n",
       "    <tr>\n",
       "      <th>202</th>\n",
       "      <td>听我说谢谢你</td>\n",
       "      <td>2</td>\n",
       "      <td>0.00</td>\n",
       "      <td>0.000</td>\n",
       "      <td>0.000</td>\n",
       "    </tr>\n",
       "    <tr>\n",
       "      <th>284</th>\n",
       "      <td>emm</td>\n",
       "      <td>10</td>\n",
       "      <td>0.00</td>\n",
       "      <td>0.000</td>\n",
       "      <td>0.000</td>\n",
       "    </tr>\n",
       "  </tbody>\n",
       "</table>\n",
       "<p>394 rows × 5 columns</p>\n",
       "</div>"
      ],
      "text/plain": [
       "         teamID  batch  pAT5  pAT10  pScore\n",
       "339         emm     15  0.83  0.735   0.802\n",
       "85          emm     14  0.83  0.735   0.802\n",
       "322      emmemm      9  0.83  0.735   0.802\n",
       "126  对不起这真的是个意外      9  0.83  0.735   0.802\n",
       "252         emm     16  0.83  0.735   0.802\n",
       "..          ...    ...   ...    ...     ...\n",
       "149      听我说谢谢你      3  0.00  0.000   0.000\n",
       "210      test-1      4  0.00  0.000   0.000\n",
       "163      111111      3  0.00  0.000   0.000\n",
       "202      听我说谢谢你      2  0.00  0.000   0.000\n",
       "284         emm     10  0.00  0.000   0.000\n",
       "\n",
       "[394 rows x 5 columns]"
      ]
     },
     "execution_count": 63,
     "metadata": {},
     "output_type": "execute_result"
    }
   ],
   "source": [
    "a"
   ]
  },
  {
   "cell_type": "code",
   "execution_count": 64,
   "metadata": {},
   "outputs": [
    {
     "data": {
      "text/html": [
       "<div>\n",
       "<style scoped>\n",
       "    .dataframe tbody tr th:only-of-type {\n",
       "        vertical-align: middle;\n",
       "    }\n",
       "\n",
       "    .dataframe tbody tr th {\n",
       "        vertical-align: top;\n",
       "    }\n",
       "\n",
       "    .dataframe thead th {\n",
       "        text-align: right;\n",
       "    }\n",
       "</style>\n",
       "<table border=\"1\" class=\"dataframe\">\n",
       "  <thead>\n",
       "    <tr style=\"text-align: right;\">\n",
       "      <th></th>\n",
       "      <th>teamID</th>\n",
       "      <th>batch</th>\n",
       "      <th>pAT5</th>\n",
       "      <th>pAT10</th>\n",
       "      <th>pScore</th>\n",
       "    </tr>\n",
       "  </thead>\n",
       "  <tbody>\n",
       "    <tr>\n",
       "      <th>231</th>\n",
       "      <td>wbc_try_is_fake</td>\n",
       "      <td>3</td>\n",
       "      <td>0.82</td>\n",
       "      <td>0.750</td>\n",
       "      <td>0.799</td>\n",
       "    </tr>\n",
       "    <tr>\n",
       "      <th>232</th>\n",
       "      <td>wbc_try_is_fake</td>\n",
       "      <td>6</td>\n",
       "      <td>0.82</td>\n",
       "      <td>0.750</td>\n",
       "      <td>0.799</td>\n",
       "    </tr>\n",
       "    <tr>\n",
       "      <th>125</th>\n",
       "      <td>wbc_try_is_fake</td>\n",
       "      <td>2</td>\n",
       "      <td>0.80</td>\n",
       "      <td>0.755</td>\n",
       "      <td>0.787</td>\n",
       "    </tr>\n",
       "    <tr>\n",
       "      <th>4</th>\n",
       "      <td>wbc_try_is_fake</td>\n",
       "      <td>5</td>\n",
       "      <td>0.82</td>\n",
       "      <td>0.625</td>\n",
       "      <td>0.762</td>\n",
       "    </tr>\n",
       "    <tr>\n",
       "      <th>103</th>\n",
       "      <td>wbc_try_is_fake</td>\n",
       "      <td>1</td>\n",
       "      <td>0.80</td>\n",
       "      <td>0.400</td>\n",
       "      <td>0.680</td>\n",
       "    </tr>\n",
       "    <tr>\n",
       "      <th>5</th>\n",
       "      <td>wbc_try_is_fake</td>\n",
       "      <td>11</td>\n",
       "      <td>0.56</td>\n",
       "      <td>0.455</td>\n",
       "      <td>0.529</td>\n",
       "    </tr>\n",
       "    <tr>\n",
       "      <th>104</th>\n",
       "      <td>wbc_try_is_fake</td>\n",
       "      <td>10</td>\n",
       "      <td>0.49</td>\n",
       "      <td>0.360</td>\n",
       "      <td>0.451</td>\n",
       "    </tr>\n",
       "  </tbody>\n",
       "</table>\n",
       "</div>"
      ],
      "text/plain": [
       "              teamID  batch  pAT5  pAT10  pScore\n",
       "231  wbc_try_is_fake      3  0.82  0.750   0.799\n",
       "232  wbc_try_is_fake      6  0.82  0.750   0.799\n",
       "125  wbc_try_is_fake      2  0.80  0.755   0.787\n",
       "4    wbc_try_is_fake      5  0.82  0.625   0.762\n",
       "103  wbc_try_is_fake      1  0.80  0.400   0.680\n",
       "5    wbc_try_is_fake     11  0.56  0.455   0.529\n",
       "104  wbc_try_is_fake     10  0.49  0.360   0.451"
      ]
     },
     "execution_count": 64,
     "metadata": {},
     "output_type": "execute_result"
    }
   ],
   "source": [
    "a[a[\"teamID\"] == \"wbc_try_is_fake\"]"
   ]
  },
  {
   "cell_type": "code",
   "execution_count": null,
   "metadata": {},
   "outputs": [],
   "source": [
    "# 关闭数据库连接\n",
    "engine.dispose\n",
    "cursor.close()   \n",
    "connect.close()"
   ]
  }
 ],
 "metadata": {
  "interpreter": {
   "hash": "5679f9553f4f00225f3be8426420a77b8253aec81828e496ef8a4337472ea9c5"
  },
  "kernelspec": {
   "display_name": "Python 3.7.9 64-bit",
   "language": "python",
   "name": "python3"
  },
  "language_info": {
   "codemirror_mode": {
    "name": "ipython",
    "version": 3
   },
   "file_extension": ".py",
   "mimetype": "text/x-python",
   "name": "python",
   "nbconvert_exporter": "python",
   "pygments_lexer": "ipython3",
   "version": "3.7.9"
  },
  "orig_nbformat": 4
 },
 "nbformat": 4,
 "nbformat_minor": 2
}
