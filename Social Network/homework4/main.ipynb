{
 "cells": [
  {
   "cell_type": "code",
   "execution_count": 2,
   "metadata": {},
   "outputs": [],
   "source": [
    "def SingleInterest(m,i,t): #单利\n",
    "    a=1+i*t\n",
    "    return(m*a)\n",
    "\n",
    "def CompoundInterest(m,i,t): #复利\n",
    "    a=(1+i)**t\n",
    "    return(m*a)\n",
    "\n",
    "def rate(m,n,t):\n",
    "    return((n/m)**(1/t)-1)\n",
    "    \n",
    "def real_rate(i,year):\n",
    "    i = i #年利率\n",
    "    month_i = (1+i)**(1/12)-1 #月利率\n",
    "    year = year #存活年数\n",
    "    recept = 0\n",
    "    pay = 0\n",
    "    # 收益现值\n",
    "    profit = [0,0,0,0,14502,14502,14502,14502,3000,3000,3000,3000,3000,3000,3000,3000,3000,3000,3000,3000,3000,3000,3000,3000,3000,3000,3000,3000,3000,230040]\n",
    "    death = [23004,46008,69012,92016,115020,138024,161028,184032,207036,230040,230040,230040,230040,230040,230040,230040,230040,230040,230040,230040,230040,230040,230040,230040,230040,230040,230040,230040,230040,0]\n",
    "    for t in range(1,year+1):\n",
    "        if t < 10:\n",
    "            # 付款现值\n",
    "            for month_t in range((t-1)*12,t*12):\n",
    "                pay += CompoundInterest(1900,month_i,-month_t)\n",
    "        recept += CompoundInterest(profit[t-1],i,-t)\n",
    "    recept += CompoundInterest(death[year-1],i,-t)\n",
    "    if abs(recept-pay)<=100:\n",
    "        print(i)\n",
    "        # data = data.append({\"year\":year,\"rate\":i},ignore_index=True)\n",
    "    elif recept-pay >0:\n",
    "        real_rate(i+0.0002,year)\n",
    "    elif recept-pay <0:\n",
    "        real_rate(i-0.0002,year)\n",
    "    else:\n",
    "        print(\"error\")"
   ]
  },
  {
   "cell_type": "code",
   "execution_count": 2,
   "metadata": {},
   "outputs": [],
   "source": [
    "def SingleInterest(m,i,t): #单利\n",
    "    a=1+i*t\n",
    "    return(m*a)\n",
    "\n",
    "def CompoundInterest(m,i,t): #复利\n",
    "    a=(1+i)**t\n",
    "    return(m*a)\n",
    "\n",
    "def rate(m,n,t):\n",
    "    return((n/m)**(1/t)-1)\n",
    "    \n",
    "def real_rate(i,year):\n",
    "    i = i #年利率\n",
    "    month_i = (1+i)**(1/12)-1 #月利率\n",
    "    year = year #存活年数\n",
    "    recept = 0\n",
    "    pay = 0\n",
    "    # 收益现值\n",
    "    profit = [0,0,0,0,14502,14502,14502,14502,3000,3000,3000,3000,3000,3000,3000,3000,3000,3000,3000,3000,3000,3000,3000,3000,3000,3000,3000,3000,3000,230040]\n",
    "    death = [23004,46008,69012,92016,115020,138024,161028,184032,207036,230040,230040,230040,230040,230040,230040,230040,230040,230040,230040,230040,230040,230040,230040,230040,230040,230040,230040,230040,230040,0]\n",
    "    for t in range(1,year+1):\n",
    "        if t < 10:\n",
    "            # 付款现值\n",
    "            for month_t in range((t-1)*12,t*12):\n",
    "                pay += CompoundInterest(1900,month_i,-month_t)\n",
    "        recept += CompoundInterest(profit[t-1],i,-t)\n",
    "    recept += CompoundInterest(death[year-1],i,-t)\n",
    "    return recept-pay"
   ]
  },
  {
   "cell_type": "code",
   "execution_count": 4,
   "metadata": {},
   "outputs": [
    {
     "name": "stdout",
     "output_type": "stream",
     "text": [
      "-229.92059573624647\n",
      "-1223.4412435190825\n",
      "-2927.215585797261\n",
      "-5290.682690321613\n",
      "3885.5406420202926\n",
      "12073.095702540144\n",
      "19329.61277989371\n",
      "25709.9107813366\n",
      "22899.781976896746\n",
      "35924.335406842176\n",
      "32345.06062281574\n",
      "28890.162182635773\n",
      "25555.31812840805\n",
      "22336.356686103274\n",
      "19229.251046812948\n",
      "16230.114329351229\n",
      "13335.19471790173\n",
      "10540.870768626104\n",
      "7843.64687936398\n",
      "5240.1489167556865\n",
      "2727.119995319139\n",
      "301.41640319890575\n",
      "-2039.9963305078563\n",
      "-4300.047231769247\n",
      "-6481.563545728073\n",
      "-8587.274273487565\n",
      "-10619.813585996773\n",
      "-12581.724119306775\n",
      "-14475.460155320296\n",
      "-17341.704411392042\n"
     ]
    }
   ],
   "source": [
    "for year in range(1,31):\n",
    "    print(real_rate(0.036,year))"
   ]
  }
 ],
 "metadata": {
  "interpreter": {
   "hash": "eb4d4f6bcbd50367daff873984b498aada7467dc07c502b0dfeb9e8751449c28"
  },
  "kernelspec": {
   "display_name": "Python 3.7.9 64-bit",
   "language": "python",
   "name": "python3"
  },
  "language_info": {
   "codemirror_mode": {
    "name": "ipython",
    "version": 3
   },
   "file_extension": ".py",
   "mimetype": "text/x-python",
   "name": "python",
   "nbconvert_exporter": "python",
   "pygments_lexer": "ipython3",
   "version": "3.7.9"
  },
  "orig_nbformat": 4
 },
 "nbformat": 4,
 "nbformat_minor": 2
}
